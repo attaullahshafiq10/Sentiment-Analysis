{
 "cells": [
  {
   "cell_type": "code",
   "execution_count": 2,
   "metadata": {},
   "outputs": [],
   "source": [
    "\"\"\"\n",
    "Attaullah Shafiq\n",
    "attaullahshafiq10@gmail.com\n",
    "\"\"\"\n",
    "\n",
    "import pandas as pd\n",
    "import numpy as np\n",
    "import pickle\n",
    "import sys\n",
    "import os\n",
    "import io\n",
    "import re\n",
    "from sys import path\n",
    "import numpy as np\n",
    "import pickle\n",
    "from sklearn.feature_extraction.text import CountVectorizer\n",
    "from sklearn.naive_bayes import MultinomialNB\n",
    "from sklearn.model_selection import train_test_split\n",
    "from sklearn.preprocessing import LabelBinarizer\n",
    "import matplotlib.pyplot as plt\n",
    "from string import punctuation, digits\n",
    "from IPython.core.display import display, HTML\n",
    "from nltk.corpus import stopwords\n",
    "from nltk.corpus import stopwords\n",
    "from nltk.tokenize import word_tokenize\n",
    "from nltk.tokenize import RegexpTokenizer\n",
    "\n",
    "\n"
   ]
  },
  {
   "cell_type": "code",
   "execution_count": 3,
   "metadata": {},
   "outputs": [
    {
     "name": "stdout",
     "output_type": "stream",
     "text": [
      "                                              Sentence  Class  index\n",
      "0    So there is no way for me to plug it in here i...      0      0\n",
      "1                          Good case, Excellent value.      1      1\n",
      "2                               Great for the jawbone.      1      2\n",
      "3    Tied to charger for conversations lasting more...      0      3\n",
      "4                                    The mic is great.      1      4\n",
      "..                                                 ...    ...    ...\n",
      "995  I think food should have flavor and texture an...      0    995\n",
      "996                           Appetite instantly gone.      0    996\n",
      "997  Overall I was not impressed and would not go b...      0    997\n",
      "998  The whole experience was underwhelming, and I ...      0    998\n",
      "999  Then, as if I hadn't wasted enough of my life ...      0    999\n",
      "\n",
      "[3000 rows x 3 columns]\n"
     ]
    }
   ],
   "source": [
    "input_file = \"E:/My Programming Projects/Python/Sentiment Analysis Tattvamasi/amazon.txt\"\n",
    "amazon = pd.read_csv(input_file,delimiter='\\t',header=None)\n",
    "amazon.columns = ['Sentence','Class']\n",
    "#Yelp Data\n",
    "input_file = \"E:/My Programming Projects/Python/Sentiment Analysis Tattvamasi/yelp_labelled.txt\"\n",
    "yelp = pd.read_csv(input_file,delimiter='\\t',header=None)\n",
    "yelp.columns = ['Sentence','Class']\n",
    "#Imdb Data\n",
    "input_file = \"E:/My Programming Projects/Python/Sentiment Analysis Tattvamasi/yelp_labelled.txt\"\n",
    "imdb = pd.read_csv(input_file,delimiter='\\t',header=None)\n",
    "imdb.columns = ['Sentence','Class']\n",
    "#combine all data sets\n",
    "data = pd.DataFrame()\n",
    "data = pd.concat([amazon, yelp, imdb])\n",
    "data['index'] = data.index\n",
    "print(data)\n",
    "\n"
   ]
  },
  {
   "cell_type": "code",
   "execution_count": 17,
   "metadata": {},
   "outputs": [
    {
     "name": "stdout",
     "output_type": "stream",
     "text": [
      "   Class  COUNT\n",
      "0      0    740\n",
      "1      1    740\n"
     ]
    },
    {
     "data": {
      "image/png": "[encoded data removed]",
      "text/plain": [
       "<Figure size 432x288 with 1 Axes>"
      ]
     },
     "metadata": {},
     "output_type": "display_data"
    }
   ],
   "source": [
    "\n",
    "#Total Count of Each Category\n",
    "pd.set_option('display.width', 4000)\n",
    "pd.set_option('display.max_rows', 1000)\n",
    "distOfDetails = data.groupby(by='Class', as_index=False).agg({'index': pd.Series.nunique}).sort_values(by='index', ascending=False)\n",
    "distOfDetails.columns =['Class', 'COUNT']\n",
    "print(distOfDetails)\n",
    "#Distribution of All Categories\n",
    "plt.pie(distOfDetails['COUNT'],autopct='%1.0f%%',shadow=True, startangle=360)\n",
    "plt.show()\n"
   ]
  },
  {
   "cell_type": "code",
   "execution_count": 22,
   "metadata": {},
   "outputs": [
    {
     "name": "stdout",
     "output_type": "stream",
     "text": [
      "data      index Class                                           Sentence\n",
      "0        0     0                    way plug us unless go converter\n",
      "1        1     1                          good case excellent value\n",
      "2        2     1                                      great jawbone\n",
      "3        3     0  tied charger conversations lasting minutesmajo...\n",
      "4        4     1                                          mic great\n",
      "...    ...   ...                                                ...\n",
      "2995   995     0                  think food flavor texture lacking\n",
      "2996   996     0                            appetite instantly gone\n",
      "2997   997     0                    overall impressed would go back\n",
      "2998   998     0  whole experience underwhelming think well go n...\n",
      "2999   999     0  hadnt wasted enough life poured salt wound dra...\n",
      "\n",
      "[3000 rows x 3 columns]\n"
     ]
    }
   ],
   "source": [
    "#Text Preprocessing\n",
    "columns = ['index','Class', 'Sentence']\n",
    "df_ = pd.DataFrame(columns=columns)\n",
    "#lower string\n",
    "data['Sentence'] = data['Sentence'].str.lower()\n",
    "#remove email adress\n",
    "data['Sentence'] = data['Sentence'].replace('[a-zA-Z0-9-_.]+@[a-zA-Z0-9-_.]+', '', regex=True)\n",
    "#remove IP address\n",
    "data['Sentence'] = data['Sentence'].replace('((25[0-5]|2[0-4][0-9]|[01]?[0-9][0-9]?)(\\.|$)){4}', '', regex=True)\n",
    "#remove punctaitions and special chracters\n",
    "data['Sentence'] = data['Sentence'].str.replace('[^\\w\\s]','')\n",
    "#remove numbers\n",
    "data['Sentence'] = data['Sentence'].replace('\\d', '', regex=True)\n",
    "\n",
    "#remove stop words\n",
    "for index, row in data.iterrows():\n",
    "    word_tokens = word_tokenize(row['Sentence'])\n",
    "    filtered_sentence = [w for w in word_tokens if not w in stopwords.words('english')]\n",
    "    df_ = df_.append({\"index\": row['index'], \"Class\":  row['Class'],\"Sentence\": \" \".join(filtered_sentence[0:])}, ignore_index=True)\n",
    "data = df_\n",
    "print(\"data\",data)\n",
    "\n",
    "\n",
    "X_train, X_test, y_train, y_test = train_test_split(data['Sentence'].values.astype('U'),data['Class'].values.astype('int32'), test_size=0.10, random_state=0)\n",
    "classes  = data['Class'].unique()\n"
   ]
  },
  {
   "cell_type": "code",
   "execution_count": 23,
   "metadata": {},
   "outputs": [
    {
     "name": "stdout",
     "output_type": "stream",
     "text": [
      "data      index Class                                           Sentence\n",
      "0        0     0                    way plug us unless go converter\n",
      "1        1     1                          good case excellent value\n",
      "2        2     1                                      great jawbone\n",
      "3        3     0  tied charger conversations lasting minutesmajo...\n",
      "4        4     1                                          mic great\n",
      "...    ...   ...                                                ...\n",
      "5995   995     0                  think food flavor texture lacking\n",
      "5996   996     0                            appetite instantly gone\n",
      "5997   997     0                    overall impressed would go back\n",
      "5998   998     0  whole experience underwhelming think well go n...\n",
      "5999   999     0  hadnt wasted enough life poured salt wound dra...\n",
      "\n",
      "[6000 rows x 3 columns]\n"
     ]
    }
   ],
   "source": [
    "#remove stop words\n",
    "for index, row in data.iterrows():\n",
    "    word_tokens = word_tokenize(row['Sentence'])\n",
    "    filtered_sentence = [w for w in word_tokens if not w in stopwords.words('english')]\n",
    "    df_ = df_.append({\"index\": row['index'], \"Class\":  row['Class'],\"Sentence\": \" \".join(filtered_sentence[0:])}, ignore_index=True)\n",
    "data = df_\n",
    "print(\"data\",data)\n",
    "\n",
    "\n",
    "X_train, X_test, y_train, y_test = train_test_split(data['Sentence'].values.astype('U'),data['Class'].values.astype('int32'), test_size=0.10, random_state=0)\n",
    "classes  = data['Class'].unique()\n"
   ]
  },
  {
   "cell_type": "code",
   "execution_count": 27,
   "metadata": {},
   "outputs": [],
   "source": [
    "\n",
    "\n",
    "from sklearn.metrics import confusion_matrix\n",
    "from sklearn.model_selection import cross_val_score\n",
    "from sklearn.metrics import accuracy_score\n",
    "from sklearn.neural_network import MLPClassifier\n",
    "from sklearn.feature_extraction.text import TfidfVectorizer\n",
    "from sklearn.linear_model import SGDClassifier\n",
    "\n",
    "#grid search result\n",
    "vectorizer = TfidfVectorizer(analyzer='word',ngram_range=(1,2), max_features=50000,max_df=0.5,use_idf=True, norm='l2') \n",
    "counts = vectorizer.fit_transform(X_train)\n",
    "vocab = vectorizer.vocabulary_\n",
    "classifier = SGDClassifier(alpha=1e-05,max_iter=50,penalty='elasticnet')\n",
    "targets = y_train\n",
    "classifier = classifier.fit(counts, targets)\n",
    "example_counts = vectorizer.transform(X_test)\n",
    "predictions = classifier.predict(example_counts)\n",
    "\n",
    "\n",
    "\n",
    "from sklearn.metrics import precision_score\n",
    "from sklearn.metrics import recall_score\n",
    "from sklearn.metrics import classification_report\n"
   ]
  },
  {
   "cell_type": "code",
   "execution_count": 19,
   "metadata": {},
   "outputs": [],
   "source": [
    "import nltk"
   ]
  },
  {
   "cell_type": "code",
   "execution_count": null,
   "metadata": {},
   "outputs": [],
   "source": []
  },
  {
   "cell_type": "code",
   "execution_count": 28,
   "metadata": {},
   "outputs": [
    {
     "name": "stdout",
     "output_type": "stream",
     "text": [
      "Model Accuracy:0.99\n",
      "              precision    recall  f1-score   support\n",
      "\n",
      "           0       0.99      0.99      0.99       298\n",
      "           1       0.99      0.99      0.99       302\n",
      "\n",
      "    accuracy                           0.99       600\n",
      "   macro avg       0.99      0.99      0.99       600\n",
      "weighted avg       0.99      0.99      0.99       600\n",
      "\n",
      "\n",
      "   Category  Index\n",
      "0         0      1\n",
      "1         1      2\n"
     ]
    },
    {
     "name": "stderr",
     "output_type": "stream",
     "text": [
      "C:\\Users\\Bs Computer\\anaconda3\\lib\\site-packages\\sklearn\\utils\\validation.py:67: FutureWarning: Pass labels=[0 1] as keyword args. From version 0.25 passing these as positional arguments will result in an error\n",
      "  warnings.warn(\"Pass {} as keyword args. From version 0.25 \"\n"
     ]
    },
    {
     "data": {
      "image/png": "[encoded data removed]",
      "text/plain": [
       "<Figure size 432x288 with 2 Axes>"
      ]
     },
     "metadata": {
      "needs_background": "light"
     },
     "output_type": "display_data"
    },
    {
     "data": {
      "text/plain": [
       "<Figure size 10800x7200 with 0 Axes>"
      ]
     },
     "metadata": {},
     "output_type": "display_data"
    }
   ],
   "source": [
    "#Model Evaluation\n",
    "acc = accuracy_score(y_test, predictions, normalize=True)\n",
    "hit = precision_score(y_test, predictions, average=None,labels=classes)\n",
    "capture = recall_score(y_test, predictions, average=None,labels=classes)\n",
    "print('Model Accuracy:%.2f'%acc)\n",
    "print(classification_report(y_test, predictions))\n",
    "\n",
    "import itertools\n",
    "def plot_confusion_matrix(cm, classes,\n",
    "                          normalize=False,\n",
    "                          title='Confusion matrix',\n",
    "                          cmap=plt.cm.Blues):\n",
    "    \"\"\"\n",
    "    This function prints and plots the confusion matrix.\n",
    "    Normalization can be applied by setting `normalize=True`.\n",
    "    \"\"\"\n",
    "    if normalize:\n",
    "        cm = cm.astype('float') / cm.sum(axis=1)[:, np.newaxis]\n",
    "        #print(\"Normalized confusion matrix\")\n",
    "    else:\n",
    "        print()\n",
    "    plt.imshow(cm, interpolation='nearest', cmap=cmap, aspect='auto')\n",
    "    plt.title(title)\n",
    "    plt.colorbar()\n",
    "    tick_marks = np.arange(len(classes))\n",
    "    plt.xticks(tick_marks, classes, rotation=45)\n",
    "    plt.yticks(tick_marks, classes)\n",
    "    fmt = '.2f' if normalize else 'd'\n",
    "    thresh = cm.max() / 2.\n",
    "    for i, j in itertools.product(range(cm.shape[0]), range(cm.shape[1])):\n",
    "        plt.text(j, i, format(cm[i, j], fmt),\n",
    "                 horizontalalignment=\"center\",\n",
    "                 color=\"white\" if cm[i, j] > thresh else \"black\")\n",
    "    plt.tight_layout()\n",
    "    plt.ylabel('True label')\n",
    "    plt.xlabel('Predicted label')\n",
    "    plt.figure(figsize=(150,100))\n",
    "    \n",
    "    \n",
    "cnf_matrix = confusion_matrix(y_test, predictions,classes)\n",
    "np.set_printoptions(precision=2)\n",
    "class_names = range(1,classes.size+1)\n",
    "# Plot non-normalized confusion matrix\n",
    "plt.figure()\n",
    "plot_confusion_matrix(cnf_matrix, classes=class_names,title='Confusion matrix, without normalization')\n",
    "classInfo = pd.DataFrame(data=[])\n",
    "for i in range(0,classes.size):\n",
    "    classInfo = classInfo.append([[classes[i],i+1]],ignore_index=True)\n",
    "classInfo.columns=['Category','Index']\n",
    "print(classInfo)\n",
    "\n"
   ]
  },
  {
   "cell_type": "code",
   "execution_count": null,
   "metadata": {},
   "outputs": [],
   "source": []
  }
 ],
 "metadata": {
  "kernelspec": {
   "display_name": "Python 3",
   "language": "python",
   "name": "python3"
  },
  "language_info": {
   "codemirror_mode": {
    "name": "ipython",
    "version": 3
   },
   "file_extension": ".py",
   "mimetype": "text/x-python",
   "name": "python",
   "nbconvert_exporter": "python",
   "pygments_lexer": "ipython3",
   "version": "3.8.5"
  }
 },
 "nbformat": 4,
 "nbformat_minor": 4
}
